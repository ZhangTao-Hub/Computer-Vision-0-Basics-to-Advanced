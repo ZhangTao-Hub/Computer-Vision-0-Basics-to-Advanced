


import numpy as np


import matplotlib.pyplot as plt


%matplotlib inline


import cv2


img_black = np.zeros((800, 800, 3), dtype=np.int16)


plt.imshow(img_black)








cv2.rectangle(img=img_black, pt1=(100, 100), pt2=(300, 400), color=(0, 255, 0), thickness=10)


plt.imshow(img_black)


cv2.rectangle(img=img_black, pt1=(100, 500), pt2=(200, 600), color=(0,0,255), thickness=10)


plt.imshow(img_black)





cv2.circle(img=img_black, center=(400, 400), radius=100, color=(255, 0, 0), thickness=10)


plt.imshow(img_black)


cv2.circle(img=img_black, center=(600, 600), radius=50, color=(255, 0, 0), thickness=-1)


plt.imshow(img_black)





cv2.line(img=img_black, pt1=(0, 0), pt2=(800, 800), color=(255, 0, 255), thickness=10)


plt.imshow(img_black)








cv2.putText(img=img_black, text="Python", org=(500, 150), fontFace=cv2.FONT_HERSHEY_PLAIN, fontScale=4, color=(255, 0, 255), thickness=10, lineType=cv2.LINE_AA)


plt.imshow(img_black)











black_img = np.zeros((800, 800, 3), dtype=np.int16)


plt.imshow(black_img)


points = np.array([[400, 100], [100, 300], [400, 700], [700, 300]], dtype=np.int32)


points.shape


pts = points.reshape((-1, 1, 2))


pts.shape


pts


cv2.polylines(img=black_img, pts=[pts], isClosed=True, color=(255, 0, 255), thickness=10)


plt.imshow(black_img)











cat_img = cv2.imread("./img/cat.jpg")


cat_img_fixed = cv2.cvtColor(cat_img, cv2.COLOR_BGR2RGB)


plt.imshow(cat_img_fixed)


cv2.rectangle(img=cat_img, pt1=(50, 50), pt2=(250, 350), color=(255,0,255), thickness=10)


cv2.circle(img=cat_img, center=(300, 210), radius=20, color=(0, 0, 255), thickness=10)


cat_img_fixed = cv2.cvtColor(cat_img, cv2.COLOR_BGR2RGB)


plt.imshow(cat_img_fixed)








from PIL import Image, ImageDraw, ImageFont


def cv2AddChineseText(img, text, position, textColor=(0, 255, 0), textSize=30):
    img = Image.fromarray(cv2.cvtColor(img, cv2.COLOR_BGR2RGB))
    print(type(img))
    draw = ImageDraw.Draw(img)
    # 字体的格式
    fontStyle = ImageFont.truetype("./font/simsun.ttc", textSize, encoding="utf-8")
    # 绘制文本
    draw.text(position, text, textColor, font=fontStyle)
    # 返回opencv 格式
    return cv2.cvtColor(np.asarray(img), cv2.COLOR_RGB2BGR)


cat_img = cv2AddChineseText(img=cat_img, text="你好", position=(500, 100), textColor=(255, 0, 255), textSize=40)


cat_img_fixed = cv2.cvtColor(cat_img, cv2.COLOR_BGR2RGB)


plt.imshow(cat_img_fixed)






