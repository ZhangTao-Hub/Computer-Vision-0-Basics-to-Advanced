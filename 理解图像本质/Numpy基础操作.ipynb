{
 "cells": [
  {
   "cell_type": "markdown",
   "id": "3f595c2f-1df9-4ec0-a379-cd0d6dd39aa9",
   "metadata": {},
   "source": [
    "# numpy的操作"
   ]
  },
  {
   "cell_type": "code",
   "execution_count": 1,
   "id": "c466a100-ad1e-4075-a0b5-90df8d712bc8",
   "metadata": {},
   "outputs": [],
   "source": [
    "list1 = [1, 2, 3]"
   ]
  },
  {
   "cell_type": "code",
   "execution_count": 2,
   "id": "8b865d77-4e16-45df-9b34-d4b6334bf1f3",
   "metadata": {},
   "outputs": [
    {
     "data": {
      "text/plain": [
       "[1, 2, 3]"
      ]
     },
     "execution_count": 2,
     "metadata": {},
     "output_type": "execute_result"
    }
   ],
   "source": [
    "list1"
   ]
  },
  {
   "cell_type": "code",
   "execution_count": 3,
   "id": "3778767a-d8b7-4b02-acef-bb94df0fb0a7",
   "metadata": {},
   "outputs": [
    {
     "data": {
      "text/plain": [
       "list"
      ]
     },
     "execution_count": 3,
     "metadata": {},
     "output_type": "execute_result"
    }
   ],
   "source": [
    "type(list1)"
   ]
  },
  {
   "cell_type": "code",
   "execution_count": 5,
   "id": "c178f6fb-c8b7-4f5f-9e44-b027e5a5c363",
   "metadata": {},
   "outputs": [],
   "source": [
    "list2 = [[1, 2], [3, 4], [5, 6]]"
   ]
  },
  {
   "cell_type": "code",
   "execution_count": 6,
   "id": "3763b045-e492-4616-bac9-4df5671a33a5",
   "metadata": {},
   "outputs": [
    {
     "data": {
      "text/plain": [
       "[[1, 2], [3, 4], [5, 6]]"
      ]
     },
     "execution_count": 6,
     "metadata": {},
     "output_type": "execute_result"
    }
   ],
   "source": [
    "list2"
   ]
  },
  {
   "cell_type": "code",
   "execution_count": 7,
   "id": "6bab0c1e-9393-4a5b-b46c-b49fb0cf7a3a",
   "metadata": {},
   "outputs": [
    {
     "data": {
      "text/plain": [
       "list"
      ]
     },
     "execution_count": 7,
     "metadata": {},
     "output_type": "execute_result"
    }
   ],
   "source": [
    "type(list2)"
   ]
  },
  {
   "cell_type": "code",
   "execution_count": 8,
   "id": "e6f43214-ba93-40ec-9822-69cba2616419",
   "metadata": {},
   "outputs": [
    {
     "data": {
      "text/plain": [
       "3"
      ]
     },
     "execution_count": 8,
     "metadata": {},
     "output_type": "execute_result"
    }
   ],
   "source": [
    "list2[1][0]"
   ]
  },
  {
   "cell_type": "code",
   "execution_count": null,
   "id": "c2daf527-6c5f-4da1-a84b-c2b0898c7edc",
   "metadata": {},
   "outputs": [],
   "source": []
  },
  {
   "cell_type": "markdown",
   "id": "68672f04-576e-4966-9592-0a925e916711",
   "metadata": {},
   "source": [
    "# 如何创建一个numpy数组"
   ]
  },
  {
   "cell_type": "code",
   "execution_count": 9,
   "id": "2d7d0369-82c1-42de-add4-802134eec25d",
   "metadata": {},
   "outputs": [],
   "source": [
    "import numpy as np"
   ]
  },
  {
   "cell_type": "code",
   "execution_count": 10,
   "id": "7f5ccc8e-f7a9-46a5-8267-e868b9e61416",
   "metadata": {},
   "outputs": [],
   "source": [
    "list3 = [1, 2, 3, 4]"
   ]
  },
  {
   "cell_type": "code",
   "execution_count": 11,
   "id": "62e287c3-be9f-4835-b87b-acf1cbbdc163",
   "metadata": {},
   "outputs": [],
   "source": [
    "my_array = np.array(list3)"
   ]
  },
  {
   "cell_type": "code",
   "execution_count": 12,
   "id": "2c127408-12c8-48ee-96b0-e0db23935a3c",
   "metadata": {},
   "outputs": [
    {
     "data": {
      "text/plain": [
       "numpy.ndarray"
      ]
     },
     "execution_count": 12,
     "metadata": {},
     "output_type": "execute_result"
    }
   ],
   "source": [
    "type(my_array)"
   ]
  },
  {
   "cell_type": "code",
   "execution_count": 13,
   "id": "b25e84d1-ef21-4269-9299-18a13811aeab",
   "metadata": {},
   "outputs": [
    {
     "data": {
      "text/plain": [
       "array([1, 2, 3, 4])"
      ]
     },
     "execution_count": 13,
     "metadata": {},
     "output_type": "execute_result"
    }
   ],
   "source": [
    "my_array"
   ]
  },
  {
   "cell_type": "code",
   "execution_count": 14,
   "id": "4eb0e9d5-58e6-4feb-be57-05e6bbb8b8a0",
   "metadata": {},
   "outputs": [
    {
     "data": {
      "text/plain": [
       "array([0, 1, 2, 3, 4, 5, 6, 7, 8, 9])"
      ]
     },
     "execution_count": 14,
     "metadata": {},
     "output_type": "execute_result"
    }
   ],
   "source": [
    "np.arange(0, 10)"
   ]
  },
  {
   "cell_type": "code",
   "execution_count": 15,
   "id": "cfd16757-0b6b-4689-99b6-1f9b944d1b6e",
   "metadata": {},
   "outputs": [
    {
     "data": {
      "text/plain": [
       "array([0, 2, 4, 6, 8])"
      ]
     },
     "execution_count": 15,
     "metadata": {},
     "output_type": "execute_result"
    }
   ],
   "source": [
    "np.arange(0, 10, 2)"
   ]
  },
  {
   "cell_type": "code",
   "execution_count": 16,
   "id": "5f2a86a9-2715-4644-8ae5-af827af650c1",
   "metadata": {},
   "outputs": [
    {
     "data": {
      "text/plain": [
       "array([[1., 1., 1.],\n",
       "       [1., 1., 1.],\n",
       "       [1., 1., 1.]])"
      ]
     },
     "execution_count": 16,
     "metadata": {},
     "output_type": "execute_result"
    }
   ],
   "source": [
    "np.ones(shape=(3, 3))"
   ]
  },
  {
   "cell_type": "code",
   "execution_count": 17,
   "id": "28210358-0493-4b54-bdac-dbde9cc36217",
   "metadata": {},
   "outputs": [
    {
     "data": {
      "text/plain": [
       "array([[1., 1., 1.],\n",
       "       [1., 1., 1.],\n",
       "       [1., 1., 1.],\n",
       "       [1., 1., 1.],\n",
       "       [1., 1., 1.],\n",
       "       [1., 1., 1.],\n",
       "       [1., 1., 1.],\n",
       "       [1., 1., 1.],\n",
       "       [1., 1., 1.],\n",
       "       [1., 1., 1.]])"
      ]
     },
     "execution_count": 17,
     "metadata": {},
     "output_type": "execute_result"
    }
   ],
   "source": [
    "np.ones(shape=(10, 3))"
   ]
  },
  {
   "cell_type": "code",
   "execution_count": 18,
   "id": "cdb5fac2-e6d9-481a-beb1-b46d0322d6ef",
   "metadata": {},
   "outputs": [
    {
     "data": {
      "text/plain": [
       "array([[0., 0., 0., 0., 0.],\n",
       "       [0., 0., 0., 0., 0.],\n",
       "       [0., 0., 0., 0., 0.],\n",
       "       [0., 0., 0., 0., 0.],\n",
       "       [0., 0., 0., 0., 0.]])"
      ]
     },
     "execution_count": 18,
     "metadata": {},
     "output_type": "execute_result"
    }
   ],
   "source": [
    "np.zeros(shape=(5, 5))"
   ]
  },
  {
   "cell_type": "code",
   "execution_count": null,
   "id": "e2b0cb43-b7d9-4bad-8820-ebfa8fedd7c8",
   "metadata": {},
   "outputs": [],
   "source": []
  },
  {
   "cell_type": "markdown",
   "id": "d1bada0b-1ccb-4d79-991f-c05730bd9d20",
   "metadata": {},
   "source": [
    "# numpy中对数组的操作"
   ]
  },
  {
   "cell_type": "code",
   "execution_count": 19,
   "id": "69c92638-4ca8-419f-a5b3-9f175608b8e6",
   "metadata": {},
   "outputs": [],
   "source": [
    "arr = np.random.randint(0, 100, 10)"
   ]
  },
  {
   "cell_type": "code",
   "execution_count": 20,
   "id": "d7f60986-ce29-4d18-b528-805f25cc48c9",
   "metadata": {},
   "outputs": [
    {
     "data": {
      "text/plain": [
       "array([34,  5, 44, 90,  7, 79, 85,  7, 43, 52])"
      ]
     },
     "execution_count": 20,
     "metadata": {},
     "output_type": "execute_result"
    }
   ],
   "source": [
    "arr"
   ]
  },
  {
   "cell_type": "code",
   "execution_count": 21,
   "id": "cbcc514b-ef2c-42b9-87a5-1c20fdfcd40d",
   "metadata": {},
   "outputs": [
    {
     "data": {
      "text/plain": [
       "90"
      ]
     },
     "execution_count": 21,
     "metadata": {},
     "output_type": "execute_result"
    }
   ],
   "source": [
    "arr.max()"
   ]
  },
  {
   "cell_type": "code",
   "execution_count": 22,
   "id": "99934b3d-eaf1-4a5c-9e89-4bcf62a2de07",
   "metadata": {},
   "outputs": [
    {
     "data": {
      "text/plain": [
       "5"
      ]
     },
     "execution_count": 22,
     "metadata": {},
     "output_type": "execute_result"
    }
   ],
   "source": [
    "arr.min()"
   ]
  },
  {
   "cell_type": "code",
   "execution_count": 23,
   "id": "aae353a7-4ce2-4d23-a4dd-7ce4a987754d",
   "metadata": {},
   "outputs": [
    {
     "data": {
      "text/plain": [
       "3"
      ]
     },
     "execution_count": 23,
     "metadata": {},
     "output_type": "execute_result"
    }
   ],
   "source": [
    "arr.argmax()"
   ]
  },
  {
   "cell_type": "code",
   "execution_count": 24,
   "id": "569b730a-9210-4a7a-8779-c3859bf37589",
   "metadata": {},
   "outputs": [
    {
     "data": {
      "text/plain": [
       "1"
      ]
     },
     "execution_count": 24,
     "metadata": {},
     "output_type": "execute_result"
    }
   ],
   "source": [
    "arr.argmin()"
   ]
  },
  {
   "cell_type": "code",
   "execution_count": 25,
   "id": "bf9585cf-ff68-4baf-a35f-58b49939fa31",
   "metadata": {},
   "outputs": [
    {
     "data": {
      "text/plain": [
       "44.6"
      ]
     },
     "execution_count": 25,
     "metadata": {},
     "output_type": "execute_result"
    }
   ],
   "source": [
    "arr.mean()"
   ]
  },
  {
   "cell_type": "code",
   "execution_count": 27,
   "id": "597ddf78-eaca-4c17-8bf3-0d5122d93d21",
   "metadata": {},
   "outputs": [
    {
     "data": {
      "text/plain": [
       "(10,)"
      ]
     },
     "execution_count": 27,
     "metadata": {},
     "output_type": "execute_result"
    }
   ],
   "source": [
    "arr.shape"
   ]
  },
  {
   "cell_type": "code",
   "execution_count": 40,
   "id": "8a768dd2-164c-4523-bdec-3d70a1fcc397",
   "metadata": {},
   "outputs": [
    {
     "data": {
      "text/plain": [
       "array([[34,  5, 44, 90,  7],\n",
       "       [79, 85,  7, 43, 52]])"
      ]
     },
     "execution_count": 40,
     "metadata": {},
     "output_type": "execute_result"
    }
   ],
   "source": [
    "arr.reshape((2, 5))"
   ]
  },
  {
   "cell_type": "code",
   "execution_count": 42,
   "id": "b591b528-49e9-4e0d-ba8c-1b408792f082",
   "metadata": {},
   "outputs": [
    {
     "data": {
      "text/plain": [
       "array([[34,  5],\n",
       "       [44, 90],\n",
       "       [ 7, 79],\n",
       "       [85,  7],\n",
       "       [43, 52]])"
      ]
     },
     "execution_count": 42,
     "metadata": {},
     "output_type": "execute_result"
    }
   ],
   "source": [
    "arr.reshape((5, 2))"
   ]
  },
  {
   "cell_type": "code",
   "execution_count": null,
   "id": "f7088c4e-8f87-48ea-abd4-ca81267dcbe0",
   "metadata": {},
   "outputs": [],
   "source": []
  },
  {
   "cell_type": "markdown",
   "id": "fc6b9e9f-0686-405f-a9b3-12dff1c90dec",
   "metadata": {},
   "source": [
    "# numpy中对矩阵的操作"
   ]
  },
  {
   "cell_type": "code",
   "execution_count": 43,
   "id": "403232e8-c1cf-48bc-876c-463a7b041234",
   "metadata": {},
   "outputs": [],
   "source": [
    "matrix = np.arange(0, 100).reshape((10, 10))"
   ]
  },
  {
   "cell_type": "code",
   "execution_count": 45,
   "id": "0ecd65da-d0d0-488f-9520-28a1fcd3747a",
   "metadata": {},
   "outputs": [
    {
     "data": {
      "text/plain": [
       "array([[ 0,  1,  2,  3,  4,  5,  6,  7,  8,  9],\n",
       "       [10, 11, 12, 13, 14, 15, 16, 17, 18, 19],\n",
       "       [20, 21, 22, 23, 24, 25, 26, 27, 28, 29],\n",
       "       [30, 31, 32, 33, 34, 35, 36, 37, 38, 39],\n",
       "       [40, 41, 42, 43, 44, 45, 46, 47, 48, 49],\n",
       "       [50, 51, 52, 53, 54, 55, 56, 57, 58, 59],\n",
       "       [60, 61, 62, 63, 64, 65, 66, 67, 68, 69],\n",
       "       [70, 71, 72, 73, 74, 75, 76, 77, 78, 79],\n",
       "       [80, 81, 82, 83, 84, 85, 86, 87, 88, 89],\n",
       "       [90, 91, 92, 93, 94, 95, 96, 97, 98, 99]])"
      ]
     },
     "execution_count": 45,
     "metadata": {},
     "output_type": "execute_result"
    }
   ],
   "source": [
    "matrix"
   ]
  },
  {
   "cell_type": "code",
   "execution_count": 47,
   "id": "fa0425c8-cfb6-4b2f-946e-78123c0509ba",
   "metadata": {},
   "outputs": [
    {
     "data": {
      "text/plain": [
       "(10, 10)"
      ]
     },
     "execution_count": 47,
     "metadata": {},
     "output_type": "execute_result"
    }
   ],
   "source": [
    "matrix.shape"
   ]
  },
  {
   "cell_type": "code",
   "execution_count": 48,
   "id": "a211143b-a753-4bd2-b226-71a894f302bd",
   "metadata": {},
   "outputs": [
    {
     "data": {
      "text/plain": [
       "24"
      ]
     },
     "execution_count": 48,
     "metadata": {},
     "output_type": "execute_result"
    }
   ],
   "source": [
    "matrix[2, 4]"
   ]
  },
  {
   "cell_type": "code",
   "execution_count": 49,
   "id": "b09b4f94-e8a4-4e4e-8e6d-5cef350028d2",
   "metadata": {},
   "outputs": [
    {
     "data": {
      "text/plain": [
       "87"
      ]
     },
     "execution_count": 49,
     "metadata": {},
     "output_type": "execute_result"
    }
   ],
   "source": [
    "matrix[8, 7]"
   ]
  },
  {
   "cell_type": "code",
   "execution_count": 50,
   "id": "41f5e3d4-4722-40e3-b114-bc235a4b5e69",
   "metadata": {},
   "outputs": [
    {
     "data": {
      "text/plain": [
       "array([ 2, 12, 22, 32, 42, 52, 62, 72, 82, 92])"
      ]
     },
     "execution_count": 50,
     "metadata": {},
     "output_type": "execute_result"
    }
   ],
   "source": [
    "matrix[:, 2]"
   ]
  },
  {
   "cell_type": "code",
   "execution_count": 52,
   "id": "ea6af4a1-e628-40e0-9d79-1c3a7469c8be",
   "metadata": {},
   "outputs": [
    {
     "data": {
      "text/plain": [
       "array([[ 2],\n",
       "       [12],\n",
       "       [22],\n",
       "       [32],\n",
       "       [42],\n",
       "       [52],\n",
       "       [62],\n",
       "       [72],\n",
       "       [82],\n",
       "       [92]])"
      ]
     },
     "execution_count": 52,
     "metadata": {},
     "output_type": "execute_result"
    }
   ],
   "source": [
    "matrix[:, 2].reshape((10, 1))"
   ]
  },
  {
   "cell_type": "code",
   "execution_count": 53,
   "id": "22a662c8-1052-4c7f-9312-055ff0e44328",
   "metadata": {},
   "outputs": [
    {
     "data": {
      "text/plain": [
       "array([20, 21, 22, 23, 24, 25, 26, 27, 28, 29])"
      ]
     },
     "execution_count": 53,
     "metadata": {},
     "output_type": "execute_result"
    }
   ],
   "source": [
    "matrix[2, :]"
   ]
  },
  {
   "cell_type": "code",
   "execution_count": 54,
   "id": "630f2827-81f8-40d6-97e1-c41ea27e8909",
   "metadata": {},
   "outputs": [
    {
     "data": {
      "text/plain": [
       "array([[ 0,  1,  2,  3,  4,  5,  6,  7,  8,  9],\n",
       "       [10, 11, 12, 13, 14, 15, 16, 17, 18, 19],\n",
       "       [20, 21, 22, 23, 24, 25, 26, 27, 28, 29],\n",
       "       [30, 31, 32, 33, 34, 35, 36, 37, 38, 39],\n",
       "       [40, 41, 42, 43, 44, 45, 46, 47, 48, 49],\n",
       "       [50, 51, 52, 53, 54, 55, 56, 57, 58, 59],\n",
       "       [60, 61, 62, 63, 64, 65, 66, 67, 68, 69],\n",
       "       [70, 71, 72, 73, 74, 75, 76, 77, 78, 79],\n",
       "       [80, 81, 82, 83, 84, 85, 86, 87, 88, 89],\n",
       "       [90, 91, 92, 93, 94, 95, 96, 97, 98, 99]])"
      ]
     },
     "execution_count": 54,
     "metadata": {},
     "output_type": "execute_result"
    }
   ],
   "source": [
    "matrix"
   ]
  },
  {
   "cell_type": "code",
   "execution_count": 55,
   "id": "288c708d-1d9b-4441-a76f-34412fc565c8",
   "metadata": {},
   "outputs": [
    {
     "data": {
      "text/plain": [
       "array([[ 1,  2,  3],\n",
       "       [11, 12, 13],\n",
       "       [21, 22, 23]])"
      ]
     },
     "execution_count": 55,
     "metadata": {},
     "output_type": "execute_result"
    }
   ],
   "source": [
    "matrix[0:3, 1:4]"
   ]
  },
  {
   "cell_type": "code",
   "execution_count": 56,
   "id": "4e23a206-d919-460a-ae4c-b9f10af1a80a",
   "metadata": {},
   "outputs": [],
   "source": [
    "matrix[0:3, 1:4] = 0"
   ]
  },
  {
   "cell_type": "code",
   "execution_count": 57,
   "id": "ef03bbcf-11e2-4608-830e-894926cc4279",
   "metadata": {},
   "outputs": [
    {
     "data": {
      "text/plain": [
       "array([[ 0,  0,  0,  0,  4,  5,  6,  7,  8,  9],\n",
       "       [10,  0,  0,  0, 14, 15, 16, 17, 18, 19],\n",
       "       [20,  0,  0,  0, 24, 25, 26, 27, 28, 29],\n",
       "       [30, 31, 32, 33, 34, 35, 36, 37, 38, 39],\n",
       "       [40, 41, 42, 43, 44, 45, 46, 47, 48, 49],\n",
       "       [50, 51, 52, 53, 54, 55, 56, 57, 58, 59],\n",
       "       [60, 61, 62, 63, 64, 65, 66, 67, 68, 69],\n",
       "       [70, 71, 72, 73, 74, 75, 76, 77, 78, 79],\n",
       "       [80, 81, 82, 83, 84, 85, 86, 87, 88, 89],\n",
       "       [90, 91, 92, 93, 94, 95, 96, 97, 98, 99]])"
      ]
     },
     "execution_count": 57,
     "metadata": {},
     "output_type": "execute_result"
    }
   ],
   "source": [
    "matrix"
   ]
  },
  {
   "cell_type": "code",
   "execution_count": null,
   "id": "bb559142-8a0f-4c64-ab8d-a7f8f26875b0",
   "metadata": {},
   "outputs": [],
   "source": []
  },
  {
   "cell_type": "markdown",
   "id": "d7163d86-90da-4936-a0d7-8fa3d67a4add",
   "metadata": {},
   "source": []
  }
 ],
 "metadata": {
  "kernelspec": {
   "display_name": "Python [conda env:cv_3.9] *",
   "language": "python",
   "name": "conda-env-cv_3.9-py"
  },
  "language_info": {
   "codemirror_mode": {
    "name": "ipython",
    "version": 3
   },
   "file_extension": ".py",
   "mimetype": "text/x-python",
   "name": "python",
   "nbconvert_exporter": "python",
   "pygments_lexer": "ipython3",
   "version": "3.9.21"
  }
 },
 "nbformat": 4,
 "nbformat_minor": 5
}
